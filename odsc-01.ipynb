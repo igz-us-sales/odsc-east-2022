{
 "cells": [
  {
   "cell_type": "markdown",
   "id": "ee763b0b-4d34-4e51-93df-b2dded43b7fb",
   "metadata": {},
   "source": [
    "## Create a project"
   ]
  },
  {
   "cell_type": "code",
   "execution_count": null,
   "id": "18260d68-703b-430b-a8e4-0d3fffe36de5",
   "metadata": {},
   "outputs": [],
   "source": [
    "import mlrun"
   ]
  },
  {
   "cell_type": "code",
   "execution_count": null,
   "id": "3975739b-9ea0-4a97-94a6-e049322c0a7f",
   "metadata": {},
   "outputs": [],
   "source": [
    "project = mlrun.new_project('odsc-2022-east', user_project=True)"
   ]
  },
  {
   "cell_type": "markdown",
   "id": "48f79183-e036-4bed-8fb8-ae40dd25ed69",
   "metadata": {},
   "source": [
    "## Run function to load data"
   ]
  },
  {
   "cell_type": "code",
   "execution_count": null,
   "id": "1a83c0a7-b803-422d-a8f8-1c6ca3b59c68",
   "metadata": {},
   "outputs": [],
   "source": [
    "from mlrun import code_to_function"
   ]
  },
  {
   "cell_type": "code",
   "execution_count": null,
   "id": "160298a3-f119-4332-8463-ede8191e8616",
   "metadata": {},
   "outputs": [],
   "source": [
    "fn = code_to_function(kind='job',\n",
    "                      filename='data_iris.py',\n",
    "                      handler='iris_generator',\n",
    "                      image='mlrun/mlrun')"
   ]
  },
  {
   "cell_type": "markdown",
   "id": "878b3e6c-7399-4ee7-b560-3e3d4fb6d67e",
   "metadata": {},
   "source": [
    "### Local (In Notebook kernel)"
   ]
  },
  {
   "cell_type": "code",
   "execution_count": null,
   "id": "160ab642-d1ab-424c-9983-78aaa7747b67",
   "metadata": {},
   "outputs": [],
   "source": [
    "run_object = fn.run(local=True)"
   ]
  },
  {
   "cell_type": "code",
   "execution_count": null,
   "id": "f533090e-2957-44ea-b1db-beddba9b6074",
   "metadata": {},
   "outputs": [],
   "source": [
    "run_object.outputs"
   ]
  },
  {
   "cell_type": "markdown",
   "id": "117b559b-d8ae-40bf-b22d-8400c73516a6",
   "metadata": {},
   "source": [
    "### On Kubernetes"
   ]
  },
  {
   "cell_type": "code",
   "execution_count": null,
   "id": "39bb8e09-ae71-4db5-b9c7-8928e0f55789",
   "metadata": {},
   "outputs": [],
   "source": [
    "run_object = fn.run(local=False)"
   ]
  },
  {
   "cell_type": "code",
   "execution_count": null,
   "id": "1661f748-bb53-4c01-8e45-94f2a521a73e",
   "metadata": {},
   "outputs": [],
   "source": [
    "run_object.outputs"
   ]
  },
  {
   "cell_type": "code",
   "execution_count": null,
   "id": "4e012ee0-9434-4711-ba31-09f5188cee89",
   "metadata": {},
   "outputs": [],
   "source": []
  },
  {
   "cell_type": "markdown",
   "id": "ad19d4db-76dd-4041-a74a-ae3893c41610",
   "metadata": {},
   "source": [
    "### The function object"
   ]
  },
  {
   "cell_type": "code",
   "execution_count": null,
   "id": "cc45597b-c6ab-498e-a9b0-fa099c0cde68",
   "metadata": {},
   "outputs": [],
   "source": [
    "fn.with_limits(mem=\"2G\", cpu=\".5\")\n"
   ]
  }
 ],
 "metadata": {
  "kernelspec": {
   "display_name": "Python 3",
   "language": "python",
   "name": "python3"
  },
  "language_info": {
   "codemirror_mode": {
    "name": "ipython",
    "version": 3
   },
   "file_extension": ".py",
   "mimetype": "text/x-python",
   "name": "python",
   "nbconvert_exporter": "python",
   "pygments_lexer": "ipython3",
   "version": "3.8.8"
  }
 },
 "nbformat": 4,
 "nbformat_minor": 5
}
