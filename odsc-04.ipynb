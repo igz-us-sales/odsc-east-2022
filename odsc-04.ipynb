{
 "cells": [
  {
   "cell_type": "markdown",
   "id": "ee763b0b-4d34-4e51-93df-b2dded43b7fb",
   "metadata": {},
   "source": [
    "### Model Serving"
   ]
  },
  {
   "cell_type": "code",
   "execution_count": null,
   "id": "979539c3-44cc-4975-ba95-63ffcf60107c",
   "metadata": {},
   "outputs": [],
   "source": [
    "import mlrun "
   ]
  },
  {
   "cell_type": "markdown",
   "id": "2ebe0d77-afb0-47f0-8842-13f783b92533",
   "metadata": {},
   "source": [
    "### Import Serving function from marketplace"
   ]
  },
  {
   "cell_type": "code",
   "execution_count": null,
   "id": "52f6ed52-1234-4cc9-8cc8-e8eee6da9205",
   "metadata": {},
   "outputs": [],
   "source": [
    "serving_fn = mlrun.import_function(\"hub://v2_model_server\")"
   ]
  },
  {
   "cell_type": "code",
   "execution_count": null,
   "id": "7a43ef24-055e-4487-ac38-61808ba5a58f",
   "metadata": {},
   "outputs": [],
   "source": [
    "serving_fn.add_model('iris','store://models/odsc-2022-east-jovyan/train_model#1:latest@92554b148ffb42faaf773d1aec8d2fa7')"
   ]
  },
  {
   "cell_type": "markdown",
   "id": "c931bf08-97b6-4c57-aa8c-0388bf2f70da",
   "metadata": {},
   "source": [
    "### Test before deploying"
   ]
  },
  {
   "cell_type": "code",
   "execution_count": null,
   "id": "b566d99f-872b-44c1-8568-35192fe39e18",
   "metadata": {},
   "outputs": [],
   "source": [
    "server = serving_fn.to_mock_server()"
   ]
  },
  {
   "cell_type": "code",
   "execution_count": null,
   "id": "58c5f3c5-3b0d-4b77-ac9c-df42274295cd",
   "metadata": {},
   "outputs": [],
   "source": [
    "my_data = '''{\"inputs\":[[5.1, 3.5, 1.4, 0.2],[7.7, 3.8, 6.7, 2.2]]}'''"
   ]
  },
  {
   "cell_type": "code",
   "execution_count": null,
   "id": "d0c396c2-cff6-40d3-a675-befde69550da",
   "metadata": {},
   "outputs": [],
   "source": [
    "server.test(\"/v2/models/iris/infer\", body=my_data)"
   ]
  },
  {
   "cell_type": "markdown",
   "id": "681ea8e9-792d-467a-bc97-9da5a87c15d3",
   "metadata": {},
   "source": [
    "### Deploy serveless function"
   ]
  },
  {
   "cell_type": "code",
   "execution_count": null,
   "id": "d8f72d1d-4b31-471f-aae9-e95e1a9dd3cd",
   "metadata": {},
   "outputs": [],
   "source": [
    "deployed_server= serving_fn.deploy()"
   ]
  },
  {
   "cell_type": "markdown",
   "id": "ac043c04-db61-4428-aca1-a37d679ae328",
   "metadata": {},
   "source": [
    "### Test function "
   ]
  },
  {
   "cell_type": "code",
   "execution_count": null,
   "id": "5cebd3f6-f003-48d5-97c3-85cac63c15dd",
   "metadata": {},
   "outputs": [],
   "source": [
    "my_data = {'inputs': [[5.1, 3.5, 1.4, 0.2],[7.7, 3.8, 6.7, 2.2]]}\n",
    "serving_fn.invoke(f'/v2/models/iris/predict', my_data)"
   ]
  },
  {
   "cell_type": "markdown",
   "id": "fee7e903-eb33-42a6-955c-9d46b68dec37",
   "metadata": {},
   "source": [
    "### Test with requests"
   ]
  },
  {
   "cell_type": "code",
   "execution_count": 21,
   "id": "f2feed68-3b63-4383-962b-f56441a7b5f5",
   "metadata": {},
   "outputs": [
    {
     "name": "stdout",
     "output_type": "stream",
     "text": [
      "{'id': '06370299-6f64-4b89-bcaa-6ba37e9a98f7', 'model_name': 'iris', 'outputs': [0, 2]}\n"
     ]
    }
   ],
   "source": [
    "import requests\n",
    "import json\n",
    "model_name='iris'\n",
    "predict_url = f'http://{serving_fn.status.internal_invocation_urls[0]}/v2/models/{model_name}/predict'\n",
    "resp = requests.put(predict_url, json=json.dumps(my_data))\n",
    "print(resp.json())"
   ]
  },
  {
   "cell_type": "code",
   "execution_count": null,
   "id": "0b72b17f-de28-4a07-9535-358b364356dd",
   "metadata": {},
   "outputs": [],
   "source": []
  }
 ],
 "metadata": {
  "kernelspec": {
   "display_name": "Python 3",
   "language": "python",
   "name": "python3"
  },
  "language_info": {
   "codemirror_mode": {
    "name": "ipython",
    "version": 3
   },
   "file_extension": ".py",
   "mimetype": "text/x-python",
   "name": "python",
   "nbconvert_exporter": "python",
   "pygments_lexer": "ipython3",
   "version": "3.8.8"
  }
 },
 "nbformat": 4,
 "nbformat_minor": 5
}
