{
 "cells": [
  {
   "cell_type": "markdown",
   "id": "ee763b0b-4d34-4e51-93df-b2dded43b7fb",
   "metadata": {},
   "source": [
    "### Code from previous step"
   ]
  },
  {
   "cell_type": "code",
   "execution_count": null,
   "id": "08dd5c82-d03e-4d1d-9f25-b0074821270d",
   "metadata": {
    "jupyter": {
     "source_hidden": true
    },
    "tags": []
   },
   "outputs": [],
   "source": [
    "import mlrun\n",
    "project = mlrun.new_project('odsc-2022-east', user_project=True)\n",
    "from mlrun import code_to_function\n",
    "fn = code_to_function(kind='job',\n",
    "                      filename='data_iris.py',\n",
    "                      handler='iris_generator',\n",
    "                      image='mlrun/mlrun')\n",
    "run_object = fn.run(local=False)"
   ]
  },
  {
   "cell_type": "code",
   "execution_count": null,
   "id": "4e012ee0-9434-4711-ba31-09f5188cee89",
   "metadata": {},
   "outputs": [],
   "source": [
    "run_object.outputs"
   ]
  },
  {
   "cell_type": "markdown",
   "id": "317ccaf6-be7b-4bfc-a476-29c36f11850f",
   "metadata": {},
   "source": [
    "### Run a training function with the registered dataset"
   ]
  },
  {
   "cell_type": "code",
   "execution_count": null,
   "id": "cd328d3e-479a-4de0-8c0f-2c7dfa2d9621",
   "metadata": {},
   "outputs": [],
   "source": [
    "from mlrun.model import HyperParamOptions"
   ]
  },
  {
   "cell_type": "code",
   "execution_count": null,
   "id": "e3bd2382-d203-4a27-add1-4cbb05365dd4",
   "metadata": {},
   "outputs": [],
   "source": [
    "sklearn_classifier = mlrun.import_function(\"hub://sklearn_classifier\")"
   ]
  },
  {
   "cell_type": "code",
   "execution_count": null,
   "id": "2b6f3d62-7dd1-4733-b9c2-0e3491f3bbc5",
   "metadata": {},
   "outputs": [],
   "source": [
    "DATASET = 'iris_dataset'\n",
    "LABELS  = \"label\"\n",
    "train = sklearn_classifier.run(\n",
    "        name=\"train\",\n",
    "        params={\"sample\"          : -1, \n",
    "                \"label_column\"    : LABELS,\n",
    "                \"test_size\"       : 0.10},\n",
    "        hyperparams={'model_pkg_class': [\"sklearn.ensemble.RandomForestClassifier\", \n",
    "                                         \"sklearn.linear_model.LogisticRegression\",\n",
    "                                         \"sklearn.ensemble.AdaBoostClassifier\"]},\n",
    "        hyper_param_options=HyperParamOptions(selector='max.accuracy'),\n",
    "        inputs={\"dataset\"         : run_object.outputs[DATASET]})"
   ]
  },
  {
   "cell_type": "code",
   "execution_count": null,
   "id": "f2f94737-c1a3-40a5-9434-3335124b020a",
   "metadata": {},
   "outputs": [],
   "source": [
    "train.outputs"
   ]
  },
  {
   "cell_type": "code",
   "execution_count": null,
   "id": "7a85295c-29a7-435c-bfec-186bf38165b5",
   "metadata": {},
   "outputs": [],
   "source": []
  }
 ],
 "metadata": {
  "kernelspec": {
   "display_name": "Python 3",
   "language": "python",
   "name": "python3"
  },
  "language_info": {
   "codemirror_mode": {
    "name": "ipython",
    "version": 3
   },
   "file_extension": ".py",
   "mimetype": "text/x-python",
   "name": "python",
   "nbconvert_exporter": "python",
   "pygments_lexer": "ipython3",
   "version": "3.8.8"
  }
 },
 "nbformat": 4,
 "nbformat_minor": 5
}
